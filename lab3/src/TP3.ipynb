{
 "cells": [
  {
   "cell_type": "markdown",
   "metadata": {},
   "source": [
    "### Imports\n"
   ]
  },
  {
   "cell_type": "code",
   "execution_count": 26,
   "metadata": {},
   "outputs": [],
   "source": [
    "from code_analysis import CFG, CFGReader\n",
    "import queue\n",
    "import time\n",
    "import numpy as np"
   ]
  },
  {
   "cell_type": "code",
   "execution_count": 27,
   "metadata": {},
   "outputs": [],
   "source": [
    "def get_nodes(cfg : CFG, node_type: str, image: str = None):\n",
    "    return [node for node in cfg.get_node_ids() if cfg.get_type(node) == node_type and (image is None or cfg.get_image(node) == image)]"
   ]
  },
  {
   "cell_type": "code",
   "execution_count": 28,
   "metadata": {},
   "outputs": [],
   "source": [
    "def PatternTraversalFlowAnalysis(cfg : CFG, node_set, mode = \"reaching\") :\n",
    "    assert mode in [\"reaching\", \"reachable\"]\n",
    "    \"\"\"_summary_\n",
    "\n",
    "    Args:\n",
    "        cfg (CFG): _description_\n",
    "        node_set (_type_): _description_\n",
    "        start_node (_type_): entry or exit depending on the algorithm\n",
    "\n",
    "    Returns:\n",
    "        _type_: _description_\n",
    "    \"\"\"\n",
    "    start_node = 'Entry' if mode == \"reaching\" else 'Exit'\n",
    "    \n",
    "    start_nodes = get_nodes(cfg, start_node)\n",
    "    \n",
    "    workList = queue.LifoQueue()\n",
    "    \n",
    "    IN = {node: True for node in cfg.get_node_ids()}\n",
    "    OUT = {node: True for node in cfg.get_node_ids()}\n",
    "    \n",
    "    visited = set(  )\n",
    "    if mode == \"reaching\":\n",
    "        for node in start_nodes:\n",
    "            IN[node] = False\n",
    "    elif mode == \"reachable\":\n",
    "        for node in start_nodes:\n",
    "            OUT[node] = False\n",
    "    \n",
    "    \n",
    "    for node in start_nodes:\n",
    "        visited.add(node)\n",
    "    for node in start_nodes:\n",
    "        workList.put(node)\n",
    "\n",
    "    while not workList.empty() :\n",
    "        \n",
    "        node = workList.get()\n",
    "        if mode == \"reaching\":\n",
    "            OUT[node] = node in node_set or IN[node]\n",
    "        elif mode == \"reachable\":\n",
    "            IN[node] = node in node_set or OUT[node]\n",
    "        \n",
    "        next = cfg.get_children(node) if mode == \"reaching\" else cfg.get_parents(node)\n",
    "        if cfg.get_type(node) == \"CallBegin\" and mode == \"reaching\":\n",
    "            next.append(node +1)\n",
    "        if cfg.get_type(node) == \"CallEnd\" and mode == \"reachable\":\n",
    "            next.append(node -1)\n",
    "        for new_node in next:\n",
    "            propagate_flag = (OUT[node] < IN[new_node]) or (new_node not in visited) if mode == \"reaching\" else \\\n",
    "                            (IN[node] < OUT[new_node]) or (new_node not in visited)\n",
    "            if propagate_flag :\n",
    "                if mode == \"reaching\":\n",
    "                    IN[new_node] = OUT[node]\n",
    "                elif mode == \"reachable\":\n",
    "                    OUT[new_node] = IN[node]\n",
    "                workList.put(new_node)\n",
    "                visited.add(new_node)\n",
    "\n",
    "    return IN, OUT\n",
    "    \n",
    "    "
   ]
  },
  {
   "cell_type": "markdown",
   "metadata": {},
   "source": [
    "### Performances"
   ]
  },
  {
   "cell_type": "code",
   "execution_count": 29,
   "metadata": {},
   "outputs": [
    {
     "name": "stdout",
     "output_type": "stream",
     "text": [
      "[22, 53, 58, 72, 82]\n",
      "{0: False, 1: False, 2: False, 3: False, 4: False, 5: False, 6: False, 7: False, 8: False, 9: False, 10: False, 11: False, 12: False, 13: False, 14: False, 15: False, 16: False, 17: False, 18: False, 19: False, 20: False, 21: False, 22: True, 23: False, 24: False, 25: False, 26: False, 27: False, 28: False, 29: False, 30: False, 31: False, 32: False, 33: False, 34: False, 35: False, 36: False, 37: False, 38: False, 39: False, 40: False, 41: False, 42: False, 43: False, 44: False, 45: False, 46: False, 47: False, 48: False, 49: False, 50: False, 51: False, 52: False, 53: True, 54: False, 55: False, 56: False, 57: True, 58: True, 59: False, 60: False, 61: False, 62: False, 63: False, 64: False, 65: False, 66: False, 67: True, 68: False, 69: False, 70: False, 71: False, 72: True, 73: False, 74: False, 75: False, 76: False, 77: False, 78: False, 79: False, 80: False, 81: False, 82: True, 83: False, 84: True, 85: False, 86: False, 87: False, 88: False, 89: False, 90: False, 91: False, 92: False, 93: False, 94: False, 95: False, 96: False, 97: False, 98: False, 99: False}\n",
      "{0: False, 1: False, 2: False, 3: False, 4: False, 5: False, 6: False, 7: False, 8: False, 9: False, 10: False, 11: False, 12: False, 13: False, 14: False, 15: False, 16: False, 17: False, 18: False, 19: False, 20: False, 21: False, 22: False, 23: False, 24: False, 25: False, 26: False, 27: False, 28: False, 29: False, 30: False, 31: False, 32: False, 33: False, 34: False, 35: False, 36: False, 37: False, 38: False, 39: False, 40: False, 41: False, 42: False, 43: False, 44: False, 45: False, 46: False, 47: False, 48: False, 49: False, 50: False, 51: False, 52: False, 53: False, 54: False, 55: False, 56: False, 57: True, 58: False, 59: False, 60: False, 61: False, 62: False, 63: False, 64: False, 65: False, 66: False, 67: True, 68: False, 69: False, 70: False, 71: False, 72: False, 73: False, 74: False, 75: False, 76: False, 77: False, 78: False, 79: False, 80: False, 81: False, 82: False, 83: False, 84: True, 85: False, 86: False, 87: False, 88: False, 89: False, 90: False, 91: False, 92: False, 93: False, 94: False, 95: False, 96: False, 97: False, 98: False, 99: False}\n"
     ]
    }
   ],
   "source": [
    "reader = CFGReader()\n",
    "graph1 = reader.read_cfg(\"../tp/perf/graph1.cfg.json\")\n",
    "\n",
    "S = get_nodes(graph1, \"Pattern\")\n",
    "print(S)\n",
    "\n",
    "\n",
    "i,o = PatternTraversalFlowAnalysis(graph1, S, \"reachable\")\n",
    "\n",
    "print(i)\n",
    "print(o)\n"
   ]
  },
  {
   "cell_type": "code",
   "execution_count": 30,
   "metadata": {},
   "outputs": [
    {
     "name": "stdout",
     "output_type": "stream",
     "text": [
      "Nb nodes: 100, Nb edges: 144, Total: 244\n",
      "Time elapsed: 0.0001862049102783203\n",
      "Nb nodes: 1000, Nb edges: 1509, Total: 2509\n",
      "Time elapsed: 0.0019159317016601562\n",
      "Nb nodes: 10000, Nb edges: 15267, Total: 25267\n",
      "Time elapsed: 0.04728889465332031\n",
      "Nb nodes: 100000, Nb edges: 152895, Total: 252895\n",
      "Time elapsed: 3.1771039962768555\n"
     ]
    }
   ],
   "source": [
    "def read_one_file(file,type=\"Pattern\", mode = \"reachable\"):\n",
    "    reader = CFGReader()\n",
    "    graph = reader.read_cfg(file)\n",
    "    #calculate nb node + nb edges\n",
    "    nb_nodes = len(graph.get_node_ids())\n",
    "    nb_edges = sum([len(graph.get_children(node)) for node in graph.get_node_ids()])\n",
    "    print(f\"Nb nodes: {nb_nodes}, Nb edges: {nb_edges}, Total: {nb_nodes + nb_edges}\")\n",
    "    \n",
    "    S = get_nodes(graph, type)\n",
    "    time1 = time.time()\n",
    "    i,o = PatternTraversalFlowAnalysis(graph, S, mode)\n",
    "    time2 = time.time()\n",
    "    print(f\"Time elapsed: {time2 - time1}\")\n",
    "\n",
    "\n",
    "for i in range(1,5):\n",
    "    read_one_file(f\"../tp/perf/graph{i}.cfg.json\")\n",
    "    \n",
    "    "
   ]
  },
  {
   "cell_type": "markdown",
   "metadata": {},
   "source": [
    "## f-open f-close"
   ]
  },
  {
   "cell_type": "code",
   "execution_count": 31,
   "metadata": {},
   "outputs": [
    {
     "name": "stdout",
     "output_type": "stream",
     "text": [
      "Node 11 is a fopen that is not closed  at line None\n"
     ]
    }
   ],
   "source": [
    "##get the nodes for f-open and f-close\n",
    "reader = CFGReader()\n",
    "file = \"../tp/part_1/file1.php.cfg.json\"\n",
    "graph = reader.read_cfg(file)\n",
    "\n",
    "\n",
    "S = get_nodes(graph, \"FunctionCall\", \"fclose\")\n",
    "i,o = PatternTraversalFlowAnalysis(graph, S, \"reachable\")\n",
    "fopen = get_nodes(graph, \"FunctionCall\", \"fopen\")\n",
    "\n",
    "for node in fopen:\n",
    "    if not i[node] :\n",
    "        line = graph.get_position(node)\n",
    "        print(f\"Node {node} is a fopen that is not closed  at line {line}\")\n",
    "    else:\n",
    "        print(f\"Node {node} is a fopen that is closed\")\n"
   ]
  },
  {
   "cell_type": "markdown",
   "metadata": {},
   "source": [
    "### Protection"
   ]
  },
  {
   "cell_type": "markdown",
   "metadata": {},
   "source": [
    "Ici nous souhaitons voir si tout appel à la base de donnée est précédé d'une instruction if(has_cap('use_db'))\n",
    "Nous procederons donc ainsi :\n",
    "- identification des noeuds de requete sql dans le cfg\n",
    "- identification des groupes de noeuds comportant la verification if(has_cap('use_db')) dans le cfg\n",
    "- recherche des noeuds \"definitly reaching\" ces requetes et pour chaque requete et check si un groupe de noeud des if(has_cap..) est contenu dedans"
   ]
  },
  {
   "cell_type": "code",
   "execution_count": 32,
   "metadata": {},
   "outputs": [],
   "source": [
    "cfg_reader = CFGReader()\n",
    "file_cfg = \"../tp/part_2/wp-db.php.cfg.json\"\n",
    "\n"
   ]
  },
  {
   "cell_type": "code",
   "execution_count": 33,
   "metadata": {},
   "outputs": [],
   "source": [
    "\n",
    "graph_cfg = cfg_reader.read_cfg(file_cfg)\n"
   ]
  },
  {
   "cell_type": "markdown",
   "metadata": {},
   "source": [
    "### Here we find out the nodes ids that contains sql query"
   ]
  },
  {
   "cell_type": "code",
   "execution_count": 58,
   "metadata": {},
   "outputs": [],
   "source": [
    "def find_execute_method(cfg : CFG, node_id) :\n",
    "    if cfg.get_type(node_id) == \"MethodCall\" and cfg.get_image(node_id) == \"execute\":\n",
    "        return True\n",
    "    return False\n",
    "\n",
    "def find_sql_query(cfg : CFG, node_id) :\n",
    "    if cfg.get_type(node_id) == \"Id\" and cfg.get_image(node_id) in [\"mysql_query\",\"mysqli_query\"] :\n",
    "        return True\n",
    "    return False\n",
    "sql_nodes_ids = [node_id for node_id in graph_cfg.get_node_ids() if find_execute_method(graph_cfg, node_id) or find_sql_query(graph_cfg, node_id) ]\n",
    "      "
   ]
  },
  {
   "cell_type": "code",
   "execution_count": 59,
   "metadata": {},
   "outputs": [
    {
     "name": "stdout",
     "output_type": "stream",
     "text": [
      "Id\n",
      "mysql_query\n",
      "##############\n",
      "Id\n",
      "mysql_query\n",
      "##############\n",
      "Id\n",
      "mysql_query\n",
      "##############\n"
     ]
    }
   ],
   "source": [
    "for id in sql_nodes_ids :\n",
    "    print(graph_cfg.get_type(id))\n",
    "    print(graph_cfg.get_image(id))\n",
    "    print(\"##############\")\n",
    "    \n"
   ]
  },
  {
   "cell_type": "markdown",
   "metadata": {},
   "source": [
    "#### now lets find nodes ids that contains the if(has_cap(\"use_db\"))"
   ]
  },
  {
   "cell_type": "code",
   "execution_count": 74,
   "metadata": {},
   "outputs": [],
   "source": [
    "def has_cap_nodes(cfg : CFG, id : int) :\n",
    "    #return the id of has cap right child after the condition if it is a has cap or -1\n",
    "    if cfg.get_type(id) == \"If\" :\n",
    "        child = cfg.get_children(id)[0]\n",
    "        if cfg.get_type( child) == \"FunctionCall\" and cfg.get_image(child) == \"has_cap\" :\n",
    "            #go down two times to see if argument List is \"use_db\"\n",
    "            arg = cfg.get_children(cfg.get_children(cfg.get_children(child)[0])[0])[0]\n",
    "            if cfg.get_type(arg) == \"StringLiteral\" and cfg.get_image(arg) == \"use_db\" :\n",
    "                #go to the condition node and get the right child id\n",
    "                node_id = arg\n",
    "                while cfg.get_type(node_id) != \"Condition\" :\n",
    "                    node_id+=1\n",
    "                return cfg.get_children(node_id)[1]\n",
    "    return -1\n",
    "                \n",
    "            "
   ]
  },
  {
   "cell_type": "code",
   "execution_count": 75,
   "metadata": {},
   "outputs": [
    {
     "name": "stdout",
     "output_type": "stream",
     "text": [
      "[533, 651]\n"
     ]
    }
   ],
   "source": [
    "hascap_nodes_ids = [has_cap_nodes(graph_cfg,node_id) for node_id in graph_cfg.get_node_ids() if has_cap_nodes(graph_cfg, node_id) != -1 ]\n",
    "print(hascap_nodes_ids)"
   ]
  },
  {
   "cell_type": "markdown",
   "metadata": {},
   "source": [
    "now we compute a definitly reaching ptfa on the hascap_nodes_ids to see which nodes are definitly reached by these\n",
    "and correlate with sql query nodes"
   ]
  },
  {
   "cell_type": "code",
   "execution_count": 80,
   "metadata": {},
   "outputs": [
    {
     "name": "stdout",
     "output_type": "stream",
     "text": [
      "the sql query at node 631 if not following a if has_cap(\"use_db\") True condition\n",
      "the sql query at node 680 if not following a if has_cap(\"use_db\") True condition\n"
     ]
    }
   ],
   "source": [
    "i,o = PatternTraversalFlowAnalysis(graph_cfg, hascap_nodes_ids, \"reachable\")\n",
    "for node_id in sql_nodes_ids :\n",
    "    if not i[node_id]:\n",
    "        print(f\"the sql query at node {node_id} if not following a if has_cap(\\\"use_db\\\") True condition\")"
   ]
  }
 ],
 "metadata": {
  "kernelspec": {
   "display_name": "base",
   "language": "python",
   "name": "python3"
  },
  "language_info": {
   "codemirror_mode": {
    "name": "ipython",
    "version": 3
   },
   "file_extension": ".py",
   "mimetype": "text/x-python",
   "name": "python",
   "nbconvert_exporter": "python",
   "pygments_lexer": "ipython3",
   "version": "3.1.0"
  }
 },
 "nbformat": 4,
 "nbformat_minor": 2
}

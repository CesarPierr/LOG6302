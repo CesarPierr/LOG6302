{
 "cells": [
  {
   "cell_type": "markdown",
   "metadata": {},
   "source": [
    "### Conversion des fichiers AST en CFG"
   ]
  },
  {
   "cell_type": "code",
   "execution_count": 1,
   "metadata": {},
   "outputs": [
    {
     "name": "stdout",
     "output_type": "stream",
     "text": [
      "Visit AST from file code.php\n",
      "Visit AST from file code.php\n",
      "Visit AST from file code.php\n",
      "Visit AST from file code.php\n"
     ]
    }
   ],
   "source": [
    "from ASTtoCFGVisitor import ASTtoCFGVisitor\n",
    "from code_analysis import ASTReader\n",
    "root = '../part_1/'\n",
    "files = [\n",
    "    'functioncall/functioncall.php.ast.json',\n",
    "    'if/if.php.ast.json',\n",
    "    'while/while_continue_break.php.ast.json',\n",
    "    'while/while.php.ast.json',\n",
    "]\n",
    "\n",
    "visitor = ASTtoCFGVisitor()\n",
    "reader = ASTReader()\n",
    "\n",
    "ast_files  = [reader.read_ast(root + file) for file in files]\n",
    "cfgs = [visitor.visit(ast) for ast in ast_files]\n",
    "\n",
    "for cfg,file in zip(cfgs,files):\n",
    "    cfg.show('solutions/partie1/' + file.replace('.php.ast.json','.cfg_generated'))"
   ]
  }
 ],
 "metadata": {
  "kernelspec": {
   "display_name": "base",
   "language": "python",
   "name": "python3"
  },
  "language_info": {
   "codemirror_mode": {
    "name": "ipython",
    "version": 3
   },
   "file_extension": ".py",
   "mimetype": "text/x-python",
   "name": "python",
   "nbconvert_exporter": "python",
   "pygments_lexer": "ipython3",
   "version": "3.11.4"
  }
 },
 "nbformat": 4,
 "nbformat_minor": 2
}

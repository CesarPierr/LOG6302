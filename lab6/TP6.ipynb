{
 "cells": [
  {
   "cell_type": "markdown",
   "metadata": {},
   "source": [
    "# LOG6302A - Lab6"
   ]
  },
  {
   "cell_type": "markdown",
   "metadata": {},
   "source": [
    "CESAR Pierre 2310298\n",
    "\n",
    "MERSALI Bilal 2309771\n"
   ]
  },
  {
   "cell_type": "code",
   "execution_count": null,
   "metadata": {},
   "outputs": [],
   "source": [
    "!git clone https://github.com/CesarPierr/LOG6302.git\n",
    "import os\n",
    "os.chdir(\"LOG6302/lab6\")"
   ]
  },
  {
   "cell_type": "markdown",
   "metadata": {},
   "source": [
    "### 1 : Fragment le plus dupliqué"
   ]
  },
  {
   "cell_type": "code",
   "execution_count": 1,
   "metadata": {},
   "outputs": [],
   "source": [
    "from collections import defaultdict\n",
    "from code_analysis import ASTReader\n",
    "import numpy as np\n",
    "from code_analysis.ASTFragmentation import AST_fragmentation\n",
    "from code_analysis.AST import AST"
   ]
  },
  {
   "cell_type": "code",
   "execution_count": 2,
   "metadata": {},
   "outputs": [],
   "source": [
    "def count_nodes(ast):\n",
    "    return len(ast.get_node_ids())\n",
    "\n",
    "def find_largest_group(ast_dir):\n",
    "    vect_groups = defaultdict(list)\n",
    "    \n",
    "    for root, _, files in os.walk(ast_dir):\n",
    "        for file in files:\n",
    "            if \".ast.json.gz\" in file:\n",
    "                file_path = os.path.join(root, file)\n",
    "                reader = ASTReader()\n",
    "                ast = reader.read_ast(file_path)\n",
    "                \n",
    "                if count_nodes(ast) > 100:\n",
    "                    vect = tuple(ast.vectorize())\n",
    "                    vect_groups[vect].append(file_path)\n",
    "    \n",
    "    max_group = max(vect_groups.values(), key=len)\n",
    "    return max_group\n"
   ]
  },
  {
   "cell_type": "code",
   "execution_count": 3,
   "metadata": {},
   "outputs": [
    {
     "name": "stdout",
     "output_type": "stream",
     "text": [
      "Le plus gros groupe de fichiers avec des vecteurs identiques contient 47 fichiers.\n",
      "Le plus gros groupe de fichiers avec des vecteurs identiques est : \n",
      "ast/4417/rabo2020/def/pin/index.php.ast.json.gz\n",
      "ast/4417/rabo2020/def/info/index.php.ast.json.gz\n",
      "ast/2099/dhl/a1b2c3/5b311143a3244728d432f81fe755d7aa/start/index.php.ast.json.gz\n",
      "ast/2099/dhl/a1b2c3/5b311143a3244728d432f81fe755d7aa/info/index.php.ast.json.gz\n",
      "ast/2099/dhl/a1b2c3/5b311143a3244728d432f81fe755d7aa/cc/index.php.ast.json.gz\n",
      "ast/2099/dhl/a1b2c3/2284e439f95ccee06d62fa62fb0f1b6f/start/index.php.ast.json.gz\n",
      "ast/2099/dhl/a1b2c3/2284e439f95ccee06d62fa62fb0f1b6f/info/index.php.ast.json.gz\n",
      "ast/2099/dhl/a1b2c3/2284e439f95ccee06d62fa62fb0f1b6f/cc/index.php.ast.json.gz\n",
      "ast/2099/dhl/a1b2c3/9bfe1de0245319b7c25a09cc5d44ece1/start/index.php.ast.json.gz\n",
      "ast/2099/dhl/a1b2c3/9bfe1de0245319b7c25a09cc5d44ece1/info/index.php.ast.json.gz\n",
      "ast/2099/dhl/a1b2c3/9bfe1de0245319b7c25a09cc5d44ece1/cc/index.php.ast.json.gz\n",
      "ast/2099/dhl/a1b2c3/082e3739ba7c5489ea1c9eee2d64ecf7/start/index.php.ast.json.gz\n",
      "ast/2099/dhl/a1b2c3/082e3739ba7c5489ea1c9eee2d64ecf7/info/index.php.ast.json.gz\n",
      "ast/2099/dhl/a1b2c3/082e3739ba7c5489ea1c9eee2d64ecf7/cc/index.php.ast.json.gz\n",
      "ast/2099/dhl/a1b2c3/3f0b2f5978084667f40b0d01e2955925/start/index.php.ast.json.gz\n",
      "ast/2099/dhl/a1b2c3/3f0b2f5978084667f40b0d01e2955925/info/index.php.ast.json.gz\n",
      "ast/2099/dhl/a1b2c3/3f0b2f5978084667f40b0d01e2955925/cc/index.php.ast.json.gz\n",
      "ast/2099/dhl/a1b2c3/a72e630238863d6a2a5d6dcb1ca15a93/start/index.php.ast.json.gz\n",
      "ast/2099/dhl/a1b2c3/a72e630238863d6a2a5d6dcb1ca15a93/info/index.php.ast.json.gz\n",
      "ast/2099/dhl/a1b2c3/a72e630238863d6a2a5d6dcb1ca15a93/cc/index.php.ast.json.gz\n",
      "ast/2099/dhl/a1b2c3/3cf7cb38c0c3b2d62bc28e7891186988/start/index.php.ast.json.gz\n",
      "ast/2099/dhl/a1b2c3/3cf7cb38c0c3b2d62bc28e7891186988/info/index.php.ast.json.gz\n",
      "ast/2099/dhl/a1b2c3/3cf7cb38c0c3b2d62bc28e7891186988/cc/index.php.ast.json.gz\n",
      "ast/2099/dhl/a1b2c3/91f20e8b4b62ee3ca02fb11f46d8448d/start/index.php.ast.json.gz\n",
      "ast/2099/dhl/a1b2c3/91f20e8b4b62ee3ca02fb11f46d8448d/info/index.php.ast.json.gz\n",
      "ast/2099/dhl/a1b2c3/91f20e8b4b62ee3ca02fb11f46d8448d/cc/index.php.ast.json.gz\n",
      "ast/2099/dhl/a1b2c3/83dfc0e719fc0ac38e5b7f92568cb62f/start/index.php.ast.json.gz\n",
      "ast/2099/dhl/a1b2c3/83dfc0e719fc0ac38e5b7f92568cb62f/info/index.php.ast.json.gz\n",
      "ast/2099/dhl/a1b2c3/83dfc0e719fc0ac38e5b7f92568cb62f/cc/index.php.ast.json.gz\n",
      "ast/2099/dhl/a1b2c3/debf57126af51dd7bcb6884b6273245a/start/index.php.ast.json.gz\n",
      "ast/2099/dhl/a1b2c3/debf57126af51dd7bcb6884b6273245a/info/index.php.ast.json.gz\n",
      "ast/2099/dhl/a1b2c3/debf57126af51dd7bcb6884b6273245a/cc/index.php.ast.json.gz\n",
      "ast/2099/dhl/a1b2c3/4512fd295d161b90115d1ae4711cc23e/start/index.php.ast.json.gz\n",
      "ast/2099/dhl/a1b2c3/4512fd295d161b90115d1ae4711cc23e/info/index.php.ast.json.gz\n",
      "ast/2099/dhl/a1b2c3/4512fd295d161b90115d1ae4711cc23e/cc/index.php.ast.json.gz\n",
      "ast/2099/dhl/a1b2c3/631130a4f143906833cf0f18cf95ef60/start/index.php.ast.json.gz\n",
      "ast/2099/dhl/a1b2c3/631130a4f143906833cf0f18cf95ef60/info/index.php.ast.json.gz\n",
      "ast/2099/dhl/a1b2c3/631130a4f143906833cf0f18cf95ef60/cc/index.php.ast.json.gz\n",
      "ast/2099/dhl/a1b2c3/1f7ebc62d330d7e48473470961169eb4/start/index.php.ast.json.gz\n",
      "ast/2099/dhl/a1b2c3/1f7ebc62d330d7e48473470961169eb4/info/index.php.ast.json.gz\n",
      "ast/2099/dhl/a1b2c3/1f7ebc62d330d7e48473470961169eb4/cc/index.php.ast.json.gz\n",
      "ast/2099/dhl/a1b2c3/c569e6114d0fd1aad6cb2c137204b4dd/start/index.php.ast.json.gz\n",
      "ast/2099/dhl/a1b2c3/c569e6114d0fd1aad6cb2c137204b4dd/info/index.php.ast.json.gz\n",
      "ast/2099/dhl/a1b2c3/c569e6114d0fd1aad6cb2c137204b4dd/cc/index.php.ast.json.gz\n",
      "ast/2099/dhl/def/start/index.php.ast.json.gz\n",
      "ast/2099/dhl/def/info/index.php.ast.json.gz\n",
      "ast/2099/dhl/def/cc/index.php.ast.json.gz\n"
     ]
    }
   ],
   "source": [
    "ast_dir = \"ast\"\n",
    "largest_group = find_largest_group(ast_dir)\n",
    "print(f\"Le plus gros groupe de fichiers avec des vecteurs identiques contient {len(largest_group)} fichiers.\")\n",
    "print(f\"Le plus gros groupe de fichiers avec des vecteurs identiques est : \")\n",
    "for file in largest_group :\n",
    "    print(file)\n"
   ]
  },
  {
   "cell_type": "markdown",
   "metadata": {},
   "source": [
    "#### Analyse du résultat\n",
    "Le plus gros groupe de fichiers avec des vecteurs identiques contient 47 fichiers provenant de deux kits de phishing différents :\n",
    "\n",
    "`ast/4417/rabo2020/...` : Ce kit cible probablement la banque Rabo en 2020 car l contient des pages de phishing pour collecter les informations de carte bancaire (pin, info).\n",
    "`ast/2099/dhl/...` : Ce kit se fait passer pour le service de livraison DHL. Il contient de nombreuses variantes du même kit, avec des pages pour collecter les informations de livraison (start), les informations personnelles (info) et les données de carte bancaire (cc).\n",
    "Le fait que ces fichiers aient des vecteurs identiques indique qu'ils partagent exactement la même structure de code, malgré le changement de cible (Rabo, DHL) et de champs collectés.\n",
    "\n",
    "Cela suggère fortement que ces kits ont été générés par un outil automatisé à partir d'un même code source, ou qu'un kit a été copié et modifié superficiellement pour changer le thème mais en gardant le code sous-jacent.\n",
    "\n",
    "La présence de nombreuses variantes du kit DHL avec des hashs différents (5b311143a3244728d432f81fe755d7aa, 2284e439f95ccee06d62fa62fb0f1b6f, etc) mais un code identique renforce cette hypothèse d'une génération automatisée avec un paramétrage assez basique."
   ]
  },
  {
   "cell_type": "markdown",
   "metadata": {},
   "source": [
    "### 1.2"
   ]
  },
  {
   "cell_type": "code",
   "execution_count": 4,
   "metadata": {},
   "outputs": [],
   "source": [
    "def find_similar_group(ast_dir, threshold=0.3):\n",
    "    vector_groups = defaultdict(list)\n",
    "    vectors = []\n",
    "    file_paths = []\n",
    "    \n",
    "    for root, dirs, files in os.walk(ast_dir):\n",
    "        for file in files:\n",
    "            if file.endswith(\".ast.json.gz\"):\n",
    "                file_path = os.path.join(root, file)\n",
    "                reader = ASTReader()\n",
    "                ast = reader.read_ast(file_path)\n",
    "                \n",
    "                if count_nodes(ast) > 100:\n",
    "                    vector = ast.vectorize()\n",
    "                    vectors.append(vector)\n",
    "                    file_paths.append(file_path)\n",
    "    \n",
    "    for i, vector_i in enumerate(vectors):\n",
    "        similar_vectors = [file_paths[i]]\n",
    "        for j, vector_j in enumerate(vectors):\n",
    "            if i != j and np.abs(vector_j - vector_i).sum() <= threshold * np.sum(vector_i):\n",
    "                similar_vectors.append(file_paths[j])\n",
    "        vector_groups[tuple(vector_i)].append(similar_vectors)\n",
    "        \n",
    "    largest_group = max(vector_groups.values(), key=lambda x: len(x[0]))\n",
    "    return largest_group[0]"
   ]
  },
  {
   "cell_type": "code",
   "execution_count": 5,
   "metadata": {},
   "outputs": [
    {
     "name": "stdout",
     "output_type": "stream",
     "text": [
      "Le plus gros groupe de fichiers avec des vecteurs similaires contient 81 fichiers.\n",
      "Le plus gros groupe de fichiers avec des vecteurs similaires est : \n",
      "ast/2110/moneylion/def/token/index.php.ast.json.gz\n",
      "ast/2110/moneylion/def/token/index - Copy.php.ast.json.gz\n",
      "ast/2110/moneylion/def/wifi/index.php.ast.json.gz\n",
      "ast/2110/moneylion/def/read/index.php.ast.json.gz\n",
      "ast/2110/moneylion/def/token2/index.php.ast.json.gz\n",
      "ast/2110/moneylion/def/token3/index.php.ast.json.gz\n",
      "ast/2110/moneylion/def/cc/index.php.ast.json.gz\n",
      "ast/2110/moneylion/def/login/index.php.ast.json.gz\n",
      "ast/4417/rabo2020/a1b2c3/8ed3cd96687bb07c77db299054948df1/token/index.php.ast.json.gz\n",
      "ast/4417/rabo2020/a1b2c3/8ed3cd96687bb07c77db299054948df1/done/index.php.ast.json.gz\n",
      "ast/4417/rabo2020/a1b2c3/8ed3cd96687bb07c77db299054948df1/login/index.php.ast.json.gz\n",
      "ast/4417/rabo2020/a1b2c3/44a24055e71e417ccebb479ccef7bacf/token/index.php.ast.json.gz\n",
      "ast/4417/rabo2020/a1b2c3/44a24055e71e417ccebb479ccef7bacf/done/index.php.ast.json.gz\n",
      "ast/4417/rabo2020/a1b2c3/44a24055e71e417ccebb479ccef7bacf/login/index.php.ast.json.gz\n",
      "ast/4417/rabo2020/def/token/index.php.ast.json.gz\n",
      "ast/4417/rabo2020/def/pin/index.php.ast.json.gz\n",
      "ast/4417/rabo2020/def/code5/index.php.ast.json.gz\n",
      "ast/4417/rabo2020/def/time/index.php.ast.json.gz\n",
      "ast/4417/rabo2020/def/info/index.php.ast.json.gz\n",
      "ast/4417/rabo2020/def/done/index.php.ast.json.gz\n",
      "ast/4417/rabo2020/def/login/index.php.ast.json.gz\n",
      "ast/2099/dhl/a1b2c3/5b311143a3244728d432f81fe755d7aa/start/index.php.ast.json.gz\n",
      "ast/2099/dhl/a1b2c3/5b311143a3244728d432f81fe755d7aa/info/index.php.ast.json.gz\n",
      "ast/2099/dhl/a1b2c3/5b311143a3244728d432f81fe755d7aa/cc/index.php.ast.json.gz\n",
      "ast/2099/dhl/a1b2c3/5b311143a3244728d432f81fe755d7aa/vbv/index.php.ast.json.gz\n",
      "ast/2099/dhl/a1b2c3/2284e439f95ccee06d62fa62fb0f1b6f/start/index.php.ast.json.gz\n",
      "ast/2099/dhl/a1b2c3/2284e439f95ccee06d62fa62fb0f1b6f/info/index.php.ast.json.gz\n",
      "ast/2099/dhl/a1b2c3/2284e439f95ccee06d62fa62fb0f1b6f/cc/index.php.ast.json.gz\n",
      "ast/2099/dhl/a1b2c3/2284e439f95ccee06d62fa62fb0f1b6f/vbv/index.php.ast.json.gz\n",
      "ast/2099/dhl/a1b2c3/9bfe1de0245319b7c25a09cc5d44ece1/start/index.php.ast.json.gz\n",
      "ast/2099/dhl/a1b2c3/9bfe1de0245319b7c25a09cc5d44ece1/info/index.php.ast.json.gz\n",
      "ast/2099/dhl/a1b2c3/9bfe1de0245319b7c25a09cc5d44ece1/cc/index.php.ast.json.gz\n",
      "ast/2099/dhl/a1b2c3/9bfe1de0245319b7c25a09cc5d44ece1/vbv/index.php.ast.json.gz\n",
      "ast/2099/dhl/a1b2c3/082e3739ba7c5489ea1c9eee2d64ecf7/start/index.php.ast.json.gz\n",
      "ast/2099/dhl/a1b2c3/082e3739ba7c5489ea1c9eee2d64ecf7/info/index.php.ast.json.gz\n",
      "ast/2099/dhl/a1b2c3/082e3739ba7c5489ea1c9eee2d64ecf7/cc/index.php.ast.json.gz\n",
      "ast/2099/dhl/a1b2c3/082e3739ba7c5489ea1c9eee2d64ecf7/vbv/index.php.ast.json.gz\n",
      "ast/2099/dhl/a1b2c3/3f0b2f5978084667f40b0d01e2955925/start/index.php.ast.json.gz\n",
      "ast/2099/dhl/a1b2c3/3f0b2f5978084667f40b0d01e2955925/info/index.php.ast.json.gz\n",
      "ast/2099/dhl/a1b2c3/3f0b2f5978084667f40b0d01e2955925/cc/index.php.ast.json.gz\n",
      "ast/2099/dhl/a1b2c3/3f0b2f5978084667f40b0d01e2955925/vbv/index.php.ast.json.gz\n",
      "ast/2099/dhl/a1b2c3/a72e630238863d6a2a5d6dcb1ca15a93/start/index.php.ast.json.gz\n",
      "ast/2099/dhl/a1b2c3/a72e630238863d6a2a5d6dcb1ca15a93/info/index.php.ast.json.gz\n",
      "ast/2099/dhl/a1b2c3/a72e630238863d6a2a5d6dcb1ca15a93/cc/index.php.ast.json.gz\n",
      "ast/2099/dhl/a1b2c3/a72e630238863d6a2a5d6dcb1ca15a93/vbv/index.php.ast.json.gz\n",
      "ast/2099/dhl/a1b2c3/3cf7cb38c0c3b2d62bc28e7891186988/start/index.php.ast.json.gz\n",
      "ast/2099/dhl/a1b2c3/3cf7cb38c0c3b2d62bc28e7891186988/info/index.php.ast.json.gz\n",
      "ast/2099/dhl/a1b2c3/3cf7cb38c0c3b2d62bc28e7891186988/cc/index.php.ast.json.gz\n",
      "ast/2099/dhl/a1b2c3/3cf7cb38c0c3b2d62bc28e7891186988/vbv/index.php.ast.json.gz\n",
      "ast/2099/dhl/a1b2c3/91f20e8b4b62ee3ca02fb11f46d8448d/start/index.php.ast.json.gz\n",
      "ast/2099/dhl/a1b2c3/91f20e8b4b62ee3ca02fb11f46d8448d/info/index.php.ast.json.gz\n",
      "ast/2099/dhl/a1b2c3/91f20e8b4b62ee3ca02fb11f46d8448d/cc/index.php.ast.json.gz\n",
      "ast/2099/dhl/a1b2c3/91f20e8b4b62ee3ca02fb11f46d8448d/vbv/index.php.ast.json.gz\n",
      "ast/2099/dhl/a1b2c3/83dfc0e719fc0ac38e5b7f92568cb62f/start/index.php.ast.json.gz\n",
      "ast/2099/dhl/a1b2c3/83dfc0e719fc0ac38e5b7f92568cb62f/info/index.php.ast.json.gz\n",
      "ast/2099/dhl/a1b2c3/83dfc0e719fc0ac38e5b7f92568cb62f/cc/index.php.ast.json.gz\n",
      "ast/2099/dhl/a1b2c3/83dfc0e719fc0ac38e5b7f92568cb62f/vbv/index.php.ast.json.gz\n",
      "ast/2099/dhl/a1b2c3/debf57126af51dd7bcb6884b6273245a/start/index.php.ast.json.gz\n",
      "ast/2099/dhl/a1b2c3/debf57126af51dd7bcb6884b6273245a/info/index.php.ast.json.gz\n",
      "ast/2099/dhl/a1b2c3/debf57126af51dd7bcb6884b6273245a/cc/index.php.ast.json.gz\n",
      "ast/2099/dhl/a1b2c3/debf57126af51dd7bcb6884b6273245a/vbv/index.php.ast.json.gz\n",
      "ast/2099/dhl/a1b2c3/4512fd295d161b90115d1ae4711cc23e/start/index.php.ast.json.gz\n",
      "ast/2099/dhl/a1b2c3/4512fd295d161b90115d1ae4711cc23e/info/index.php.ast.json.gz\n",
      "ast/2099/dhl/a1b2c3/4512fd295d161b90115d1ae4711cc23e/cc/index.php.ast.json.gz\n",
      "ast/2099/dhl/a1b2c3/4512fd295d161b90115d1ae4711cc23e/vbv/index.php.ast.json.gz\n",
      "ast/2099/dhl/a1b2c3/631130a4f143906833cf0f18cf95ef60/start/index.php.ast.json.gz\n",
      "ast/2099/dhl/a1b2c3/631130a4f143906833cf0f18cf95ef60/info/index.php.ast.json.gz\n",
      "ast/2099/dhl/a1b2c3/631130a4f143906833cf0f18cf95ef60/cc/index.php.ast.json.gz\n",
      "ast/2099/dhl/a1b2c3/631130a4f143906833cf0f18cf95ef60/vbv/index.php.ast.json.gz\n",
      "ast/2099/dhl/a1b2c3/1f7ebc62d330d7e48473470961169eb4/start/index.php.ast.json.gz\n",
      "ast/2099/dhl/a1b2c3/1f7ebc62d330d7e48473470961169eb4/info/index.php.ast.json.gz\n",
      "ast/2099/dhl/a1b2c3/1f7ebc62d330d7e48473470961169eb4/cc/index.php.ast.json.gz\n",
      "ast/2099/dhl/a1b2c3/1f7ebc62d330d7e48473470961169eb4/vbv/index.php.ast.json.gz\n",
      "ast/2099/dhl/a1b2c3/c569e6114d0fd1aad6cb2c137204b4dd/start/index.php.ast.json.gz\n",
      "ast/2099/dhl/a1b2c3/c569e6114d0fd1aad6cb2c137204b4dd/info/index.php.ast.json.gz\n",
      "ast/2099/dhl/a1b2c3/c569e6114d0fd1aad6cb2c137204b4dd/cc/index.php.ast.json.gz\n",
      "ast/2099/dhl/a1b2c3/c569e6114d0fd1aad6cb2c137204b4dd/vbv/index.php.ast.json.gz\n",
      "ast/2099/dhl/def/start/index.php.ast.json.gz\n",
      "ast/2099/dhl/def/info/index.php.ast.json.gz\n",
      "ast/2099/dhl/def/cc/index.php.ast.json.gz\n",
      "ast/2099/dhl/def/vbv/index.php.ast.json.gz\n"
     ]
    }
   ],
   "source": [
    "ast_dir = \"ast\"  \n",
    "largest_similar_group = find_similar_group(ast_dir)\n",
    "print(f\"Le plus gros groupe de fichiers avec des vecteurs similaires contient {len(largest_similar_group)} fichiers.\")\n",
    "print(f\"Le plus gros groupe de fichiers avec des vecteurs similaires est : \")\n",
    "for file in largest_similar_group :\n",
    "    print(file)\n"
   ]
  },
  {
   "cell_type": "markdown",
   "metadata": {},
   "source": [
    "#### Analyse\n",
    "Le plus gros groupe de fichiers avec des vecteurs similaires contient 81 fichiers provenant de trois kits de phishing différents :\n",
    "\n",
    "`ast/2110/moneylion/...` : Ce kit cible probablement l'application MoneyLion. Il contient des pages de phishing pour collecter les informations de connexion (login), les tokens d'authentification (token, token2, token3), les informations de carte bancaire (cc), et d'autres données (wifi, read).\n",
    "`ast/4417/rabo2020/...` : Ce kit cible la banque Rabo en 2020, comme vu précédemment. Ici on voit des variantes (`a1b2c3/8ed3cd96687bb07c77db299054948df1/`, `a1b2c3/44a24055e71e417ccebb479ccef7bacf/`) qui ont une structure similaire avec des pages pour la connexion (login), la saisie du token (token) et la confirmation (done).\n",
    "ast/2099/dhl/... : Le kit se faisant passer pour DHL, également vu précédemment. Cette fois-ci avec une page supplémentaire vbv probablement pour la \"Verified by Visa\".\n",
    "Malgré les cibles et les champs différents, ces kits partagent une structure de code très similaire, avec seulement des variations mineures qui maintiennent les vecteurs de métriques dans les 30% de distance.\n",
    "\n",
    "Cela renforce l'hypothèse d'un outil de génération paramétrable et/ou de la réutilisation massive de code entre les différents kits, quelles que soient leurs cibles. Les auteurs de kits semblent travailler par copier-coller et modifications légères plutôt que par réécriture complète à chaque kit."
   ]
  },
  {
   "cell_type": "markdown",
   "metadata": {},
   "source": [
    "## Partie 2\n",
    "### 2.1"
   ]
  },
  {
   "cell_type": "code",
   "execution_count": 6,
   "metadata": {},
   "outputs": [],
   "source": [
    "def get_subtree(ast : AST, node_id):\n",
    "    subtree_nodes = ast.dfs(node_id)\n",
    "    subtree = AST()\n",
    "    for node in subtree_nodes:\n",
    "        subtree.set_type(node, ast.get_type(node))\n",
    "        subtree.set_image(node, ast.get_image(node))\n",
    "        subtree.set_position(node, ast.get_position(node))\n",
    "        for child in ast.get_children(node):\n",
    "            if child in subtree_nodes:\n",
    "                subtree.add_edge(node, child)\n",
    "    return subtree\n",
    "\n",
    "def find_similar_fragments(ast_dir, min_size=10, threshold=0.1):\n",
    "    vector_groups = defaultdict(list)\n",
    "    kit_fragments = defaultdict(set)\n",
    "    \n",
    "    for root, _, files in os.walk(ast_dir):\n",
    "        kit = os.path.dirname(root)\n",
    "        for file in files:\n",
    "            if \".ast.json.gz\" in file:\n",
    "                file_path = os.path.join(root, file)\n",
    "                reader = ASTReader()\n",
    "                ast = reader.read_ast(file_path)\n",
    "                \n",
    "                for fragment_root in AST_fragmentation(ast):\n",
    "                    fragment = get_subtree(ast, fragment_root)\n",
    "                    if count_nodes(fragment) > min_size:\n",
    "                        vector = tuple(fragment.vectorize()) #tuple pour pouvoir l'utiliser comme clé de dictionnaire\n",
    "                        if vector not in kit_fragments[kit]:\n",
    "                            kit_fragments[kit].add(vector)\n",
    "                            for group in vector_groups[vector]:\n",
    "                                if kit not in [x[0] for x in group]:\n",
    "                                    group.append((kit, file_path, fragment_root))\n",
    "                                    break\n",
    "                            else:\n",
    "                                vector_groups[vector].append([(kit, file_path, fragment_root)])\n",
    "                                \n",
    "    max_group = max(vector_groups.values(), key=lambda x: len(x))\n",
    "    \n",
    "    # Filtrer les groupes pour ne garder que les fragments similaires\n",
    "    similar_groups = []\n",
    "    for group in max_group:\n",
    "        for i, (_, _, root_i) in enumerate(group):\n",
    "            for j, (_, _, root_j) in enumerate(group):\n",
    "                if i != j:\n",
    "                    vector_i = np.array(vector_groups[tuple(get_subtree(ast, root_i).vectorize())])\n",
    "                    vector_j = np.array(vector_groups[tuple(get_subtree(ast, root_j).vectorize())])\n",
    "                    if np.abs(vector_j - vector_i).sum() <= threshold * np.sum(vector_i):\n",
    "                        similar_groups.append(group)\n",
    "                        break\n",
    "            else:\n",
    "                continue\n",
    "            break\n",
    "    \n",
    "    return similar_groups\n",
    "\n"
   ]
  },
  {
   "cell_type": "code",
   "execution_count": 7,
   "metadata": {},
   "outputs": [
    {
     "name": "stdout",
     "output_type": "stream",
     "text": [
      "WARN: Type None unknown. Skip node 889648965..\n",
      "WARN: Type None unknown. Skip node 754078534..\n",
      "Les fragments les plus similaires sont : [[('ast/2620/absa', 'ast/2620/absa/php/sqlite.php.ast.json.gz', 889648965), ('ast/2141/index', 'ast/2141/index/php/sqlite.php.ast.json.gz', 754078534)]]\n"
     ]
    }
   ],
   "source": [
    "ast_dir = \"ast\"\n",
    "similar_fragments = find_similar_fragments(ast_dir)\n",
    "print(f\"Les fragments les plus similaires sont : {similar_fragments}\")\n"
   ]
  },
  {
   "cell_type": "markdown",
   "metadata": {},
   "source": [
    "Le fait que les fragments similaires soient trouvés dans des fichiers nommés 'sqlite.php' dans deux kits différents montre que ces kits partagent du code lié et notamment pour l'interaction avec des bases de données ce qui pourrait indiquer un meme acteur derriere qui recupere les données"
   ]
  },
  {
   "cell_type": "markdown",
   "metadata": {},
   "source": [
    "### 2.2"
   ]
  },
  {
   "cell_type": "code",
   "execution_count": 8,
   "metadata": {},
   "outputs": [
    {
     "name": "stdout",
     "output_type": "stream",
     "text": [
      "Fragment dans ast/2620/absa/php/sqlite.php.ast.json.gz, fonction : MethodStatement, image : __construct\n",
      "Fragment dans ast/2141/index/php/sqlite.php.ast.json.gz, fonction : MethodStatement, image : __construct\n"
     ]
    }
   ],
   "source": [
    "# Pour trouver le nom de la fonction correspondante\n",
    "for group in similar_fragments:\n",
    "    for kit, file_path, root_id in group:\n",
    "        reader = ASTReader()\n",
    "        ast = reader.read_ast(file_path)\n",
    "        function_name = ast.get_type(root_id)\n",
    "        image_name = ast.get_image(root_id)\n",
    "        print(f\"Fragment dans {file_path}, fonction : {function_name}, image : {image_name}\")"
   ]
  },
  {
   "cell_type": "markdown",
   "metadata": {},
   "source": [
    "Comme les fragments correspondent à des définitions de constructeurs __construct on peut imaginer que les kits utilisent une classe similaire ou partagée pour gérer les connexions ou les requêtes SQLite.\n"
   ]
  },
  {
   "cell_type": "markdown",
   "metadata": {},
   "source": [
    "## 3. Kits parametriques"
   ]
  },
  {
   "cell_type": "code",
   "execution_count": 9,
   "metadata": {},
   "outputs": [
    {
     "ename": "ValueError",
     "evalue": "operands could not be broadcast together with shapes (126,) (127,) (126,) ",
     "output_type": "error",
     "traceback": [
      "\u001b[0;31m---------------------------------------------------------------------------\u001b[0m",
      "\u001b[0;31mValueError\u001b[0m                                Traceback (most recent call last)",
      "Cell \u001b[0;32mIn[9], line 26\u001b[0m\n\u001b[1;32m     24\u001b[0m \u001b[38;5;66;03m# Utilisation\u001b[39;00m\n\u001b[1;32m     25\u001b[0m ast_dir \u001b[38;5;241m=\u001b[39m \u001b[38;5;124m\"\u001b[39m\u001b[38;5;124mast\u001b[39m\u001b[38;5;124m\"\u001b[39m\n\u001b[0;32m---> 26\u001b[0m kit_vectors \u001b[38;5;241m=\u001b[39m \u001b[43mcompute_kit_vectors\u001b[49m\u001b[43m(\u001b[49m\u001b[43mast_dir\u001b[49m\u001b[43m)\u001b[49m\n\u001b[1;32m     27\u001b[0m identical_kits \u001b[38;5;241m=\u001b[39m find_identical_kits(kit_vectors)\n\u001b[1;32m     28\u001b[0m \u001b[38;5;28mprint\u001b[39m(\u001b[38;5;124mf\u001b[39m\u001b[38;5;124m\"\u001b[39m\u001b[38;5;124mLes kits ayant des vecteurs identiques sont : \u001b[39m\u001b[38;5;132;01m{\u001b[39;00midentical_kits\u001b[38;5;132;01m}\u001b[39;00m\u001b[38;5;124m\"\u001b[39m)\n",
      "Cell \u001b[0;32mIn[9], line 13\u001b[0m, in \u001b[0;36mcompute_kit_vectors\u001b[0;34m(ast_dir)\u001b[0m\n\u001b[1;32m     11\u001b[0m             \u001b[38;5;28;01mfor\u001b[39;00m fragment_root \u001b[38;5;129;01min\u001b[39;00m AST_fragmentation(ast):\n\u001b[1;32m     12\u001b[0m                 fragment \u001b[38;5;241m=\u001b[39m get_subtree(ast, fragment_root)\n\u001b[0;32m---> 13\u001b[0m                 \u001b[43mkit_vector\u001b[49m\u001b[43m \u001b[49m\u001b[38;5;241;43m+\u001b[39;49m\u001b[38;5;241;43m=\u001b[39;49m\u001b[43m \u001b[49m\u001b[43mfragment\u001b[49m\u001b[38;5;241;43m.\u001b[39;49m\u001b[43mvectorize\u001b[49m\u001b[43m(\u001b[49m\u001b[43m)\u001b[49m\n\u001b[1;32m     14\u001b[0m     kit_vectors[kit] \u001b[38;5;241m=\u001b[39m kit_vector\n\u001b[1;32m     15\u001b[0m \u001b[38;5;28;01mreturn\u001b[39;00m kit_vectors\n",
      "\u001b[0;31mValueError\u001b[0m: operands could not be broadcast together with shapes (126,) (127,) (126,) "
     ]
    }
   ],
   "source": [
    "def compute_kit_vectors(ast_dir):\n",
    "    kit_vectors = {}\n",
    "    for root, _, files in os.walk(ast_dir):\n",
    "        kit = os.path.dirname(root)\n",
    "        kit_vector = np.zeros(126)  # En supposant une taille de vecteur de 126\n",
    "        for file in files:\n",
    "            if \".ast.json.gz\" in file:\n",
    "                file_path = os.path.join(root, file)\n",
    "                reader = ASTReader()\n",
    "                ast = reader.read_ast(file_path)\n",
    "                for fragment_root in AST_fragmentation(ast):\n",
    "                    fragment = get_subtree(ast, fragment_root)\n",
    "                    kit_vector += fragment.vectorize()\n",
    "        kit_vectors[kit] = kit_vector\n",
    "    return kit_vectors\n",
    "\n",
    "def find_identical_kits(kit_vectors):\n",
    "    vector_groups = defaultdict(list)\n",
    "    for kit, vector in kit_vectors.items():\n",
    "        vector_groups[tuple(vector)].append(kit)\n",
    "    largest_group = max(vector_groups.values(), key=len)\n",
    "    return largest_group\n",
    "\n",
    "# Utilisation\n",
    "ast_dir = \"ast\"\n",
    "kit_vectors = compute_kit_vectors(ast_dir)\n",
    "identical_kits = find_identical_kits(kit_vectors)\n",
    "print(f\"Les kits ayant des vecteurs identiques sont : {identical_kits}\")\n",
    "\n",
    "# Vérification des différences de types et d'images\n",
    "for kit in identical_kits:\n",
    "    print(f\"Analyse du kit : {kit}\")\n",
    "    kit_dir = os.path.join(ast_dir, kit)\n",
    "    for root, _, files in os.walk(kit_dir):\n",
    "        for file in files:\n",
    "            if \".ast.json.gz\" in file:\n",
    "                file_path = os.path.join(root, file)\n",
    "                reader = ASTReader()\n",
    "                ast = reader.read_ast(file_path)\n",
    "                print(f\"  Fichier : {file}\")\n",
    "                for node_id in ast.get_node_ids():\n",
    "                    node_type = ast.get_type(node_id)\n",
    "                    node_image = ast.get_image(node_id)\n",
    "                    print(f\"    Nœud {node_id} - Type : {node_type}, Image : {node_image}\")"
   ]
  }
 ],
 "metadata": {
  "kernelspec": {
   "display_name": "base",
   "language": "python",
   "name": "python3"
  },
  "language_info": {
   "codemirror_mode": {
    "name": "ipython",
    "version": 3
   },
   "file_extension": ".py",
   "mimetype": "text/x-python",
   "name": "python",
   "nbconvert_exporter": "python",
   "pygments_lexer": "ipython3",
   "version": "3.11.4"
  }
 },
 "nbformat": 4,
 "nbformat_minor": 2
}

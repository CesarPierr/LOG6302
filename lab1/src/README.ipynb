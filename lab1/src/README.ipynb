{
 "cells": [
  {
   "cell_type": "markdown",
   "metadata": {
    "collapsed": true,
    "pycharm": {
     "name": "#%% md\n"
    }
   },
   "source": [
    "# LOG6302A - Lab1 - AST & visitor examples"
   ]
  },
  {
   "cell_type": "markdown",
   "metadata": {
    "collapsed": false
   },
   "source": [
    "## Load AST"
   ]
  },
  {
   "cell_type": "code",
   "execution_count": 68,
   "metadata": {
    "collapsed": false,
    "pycharm": {
     "name": "#%%\n"
    }
   },
   "outputs": [],
   "source": [
    "from code_analysis import AST, ASTReader\n",
    "\n",
    "reader = ASTReader()\n",
    "ast = reader.read_ast(\"../example/example_1.php.ast.json\")\n",
    "ast_2 = reader.read_ast(\"../example/example_2.php.ast.json\")"
   ]
  },
  {
   "cell_type": "markdown",
   "metadata": {
    "collapsed": false
   },
   "source": [
    "## Access AST information"
   ]
  },
  {
   "cell_type": "code",
   "execution_count": 69,
   "metadata": {
    "collapsed": false,
    "pycharm": {
     "name": "#%%\n"
    }
   },
   "outputs": [
    {
     "name": "stdout",
     "output_type": "stream",
     "text": [
      "Root node ID is 46\n",
      "Root type is Start\n",
      "Node root children are [42, 45]\n",
      "Node type of 42 is FunctionStatement\n",
      "Node type of 45 is FunctionCall\n"
     ]
    }
   ],
   "source": [
    "'''\n",
    "ast.get_root()       # Return the root node ID\n",
    "ast.get_type(45)     # Return the type of node 45\n",
    "ast.get_image(45)    # Return the image of node 45\n",
    "ast.get_children(45) # Return the list of children\n",
    "ast.get_parent(45)   # Return the list of parents\n",
    "ast.get_position(45) # Return the position in source file as an\n",
    "                     # array [line_begin, line_end, column_begin, column_end, token_begin, token_end]\n",
    "'''\n",
    "\n",
    "root = ast.get_root()\n",
    "print(f\"Root node ID is {root}\")\n",
    "print(f\"Root type is {ast.get_type(root)}\")\n",
    "\n",
    "print(f\"Node root children are {ast.get_children(root)}\")\n",
    "for node_id in ast.get_children(root):\n",
    "  print(f\"Node type of {node_id} is {ast.get_type(node_id)}\")\n"
   ]
  },
  {
   "cell_type": "markdown",
   "metadata": {
    "collapsed": false
   },
   "source": [
    "## Create a visitor that returns function definition position in source file"
   ]
  },
  {
   "cell_type": "code",
   "execution_count": 70,
   "metadata": {
    "collapsed": false,
    "pycharm": {
     "name": "#%%\n"
    }
   },
   "outputs": [
    {
     "name": "stdout",
     "output_type": "stream",
     "text": [
      "Visit AST from file ./example/example_1.php\n",
      "Function 'f2' definition is from line 3 to 22\n",
      "Visit AST from file ./example/example_2.php\n",
      "Function 'f2' definition is from line 2 to 18\n",
      "Function 'f1' definition is from line 20 to 37\n"
     ]
    }
   ],
   "source": [
    "class ASTFunctionDefinitionVisitor:\n",
    "  def __init__(self):\n",
    "    self.ast = None\n",
    "  def visit(self, ast: AST):\n",
    "    self.ast = ast\n",
    "    print(f\"Visit AST from file {self.ast.get_filename()}\")\n",
    "    self.__visit(self.ast.get_root())\n",
    "\n",
    "  def __visit(self, node_id: int):\n",
    "    if self.ast.get_type(node_id) == \"FunctionStatement\":\n",
    "      print(f\"Function '{self.ast.get_image(node_id)}' definition is from \"\n",
    "      f\"line {self.ast.get_position(node_id)[0]} to {self.ast.get_position(node_id)[1]}\")\n",
    "\n",
    "    for child_id in self.ast.get_children(node_id):\n",
    "      self.__visit(child_id)\n",
    "\n",
    "visitor = ASTFunctionDefinitionVisitor()\n",
    "visitor.visit(ast)\n",
    "visitor.visit(ast_2)"
   ]
  },
  {
   "cell_type": "markdown",
   "metadata": {
    "collapsed": false
   },
   "source": [
    "## Create a visitor that returns function call position in source file"
   ]
  },
  {
   "cell_type": "code",
   "execution_count": 71,
   "metadata": {
    "collapsed": false,
    "pycharm": {
     "name": "#%%\n"
    }
   },
   "outputs": [
    {
     "name": "stdout",
     "output_type": "stream",
     "text": [
      "Visit AST from file ./example/example_1.php\n",
      "Function 'f2' is called at line 24\n",
      "Visit AST from file ./example/example_2.php\n",
      "Function 'f2' is called at line 32\n",
      "Function 'f1' is called at line 39\n"
     ]
    }
   ],
   "source": [
    "class ASTFunctionCallVisitor:\n",
    "  def __init__(self):\n",
    "    self.ast = None\n",
    "  def visit(self, ast: AST):\n",
    "    self.ast = ast\n",
    "    print(f\"Visit AST from file {self.ast.get_filename()}\")\n",
    "    self.__visit(self.ast.get_root())\n",
    "\n",
    "  def __visit(self, node_id: int):\n",
    "    if self.ast.get_type(node_id) == \"FunctionCall\":\n",
    "      print(f\"Function '{self.ast.get_image(node_id)}' is called \"\n",
    "            f\"at line {self.ast.get_position(node_id)[0]}\")\n",
    "\n",
    "    for child_id in self.ast.get_children(node_id):\n",
    "      self.__visit(child_id)\n",
    "\n",
    "visitor = ASTFunctionCallVisitor()\n",
    "visitor.visit(ast)\n",
    "visitor.visit(ast_2)"
   ]
  },
  {
   "cell_type": "markdown",
   "metadata": {},
   "source": [
    "### LOAD PHP WORDPRESS FILEs"
   ]
  },
  {
   "cell_type": "code",
   "execution_count": 116,
   "metadata": {},
   "outputs": [],
   "source": [
    "from code_analysis import AST, ASTReader\n",
    "\n",
    "with open('../code_to_analyze/wordpress_ast/filelist', \"r\") as f :\n",
    "    filelist = f.readlines()\n",
    "reader = ASTReader()\n",
    "ASTFILES = [reader.read_ast(\"../code_to_analyze/wordpress_ast/\" + file.strip()) for file in filelist]\n",
    "\n"
   ]
  },
  {
   "cell_type": "markdown",
   "metadata": {},
   "source": [
    "### CREATE A VISITOR THAT RETURNS FUNCTION SQL POSITION IN SOURCE FILE"
   ]
  },
  {
   "cell_type": "code",
   "execution_count": 1,
   "metadata": {},
   "outputs": [
    {
     "ename": "NameError",
     "evalue": "name 'AST' is not defined",
     "output_type": "error",
     "traceback": [
      "\u001b[0;31m---------------------------------------------------------------------------\u001b[0m",
      "\u001b[0;31mNameError\u001b[0m                                 Traceback (most recent call last)",
      "Cell \u001b[0;32mIn[1], line 1\u001b[0m\n\u001b[0;32m----> 1\u001b[0m \u001b[38;5;28;01mdef\u001b[39;00m \u001b[38;5;21mfind_execute_method\u001b[39m(ast : \u001b[43mAST\u001b[49m, node_id) :\n\u001b[1;32m      2\u001b[0m     \u001b[38;5;28;01mif\u001b[39;00m ast\u001b[38;5;241m.\u001b[39mget_type(node_id) \u001b[38;5;241m==\u001b[39m \u001b[38;5;124m\"\u001b[39m\u001b[38;5;124mMethodCall\u001b[39m\u001b[38;5;124m\"\u001b[39m \u001b[38;5;129;01mand\u001b[39;00m ast\u001b[38;5;241m.\u001b[39mget_image(node_id) \u001b[38;5;241m==\u001b[39m \u001b[38;5;124m\"\u001b[39m\u001b[38;5;124mexecute\u001b[39m\u001b[38;5;124m\"\u001b[39m:\n\u001b[1;32m      3\u001b[0m         \u001b[38;5;28;01mreturn\u001b[39;00m \u001b[38;5;28;01mTrue\u001b[39;00m\n",
      "\u001b[0;31mNameError\u001b[0m: name 'AST' is not defined"
     ]
    }
   ],
   "source": [
    "def find_exec_mysql(ast : AST, node_id) :\n",
    "    if ast.get_type(node_id) == \"MethodCall\" and ast.get_image(node_id) == \"exec\" :\n",
    "        \n",
    "        parent = ast.get_parents(node_id)[0]\n",
    "        children = ast.get_children(parent)\n",
    "        tuples_children_1 = []\n",
    "        for child in children :\n",
    "            tuples_children_1.extend([(ast.get_type(id), ast.get_image(id),) for id in ast.get_children(child)])\n",
    "        \n",
    "        if (\"Id\", \"mysql\") in tuples_children_1 and (\"Id\", \"exec\") in tuples_children_1 :\n",
    "            return True\n",
    "    return False\n",
    "\n",
    "def find_execute_method(ast : AST, node_id) :\n",
    "    if ast.get_type(node_id) == \"MethodCall\" and ast.get_image(node_id) == \"execute\":\n",
    "        return True\n",
    "    return False\n",
    "\n",
    "def find_sql_query(ast : AST, node_id) :\n",
    "    if ast.get_type(node_id) == \"FunctionCall\" and ast.get_image(node_id) in [\"mysql_query\",\"mysqli_query\"] :\n",
    "        return True\n",
    "    return False"
   ]
  },
  {
   "cell_type": "code",
   "execution_count": 102,
   "metadata": {},
   "outputs": [
    {
     "name": "stdout",
     "output_type": "stream",
     "text": [
      "sql query 'exec' is called at line 130 in file ./wp-includes/SimplePie/Cache/MySQL.php\n",
      "\n",
      "sql query 'exec' is called at line 139 in file ./wp-includes/SimplePie/Cache/MySQL.php\n",
      "\n",
      "sql query 'execute' is called at line 168 in file ./wp-includes/SimplePie/Cache/MySQL.php\n",
      "\n",
      "sql query 'execute' is called at line 188 in file ./wp-includes/SimplePie/Cache/MySQL.php\n",
      "\n",
      "sql query 'execute' is called at line 200 in file ./wp-includes/SimplePie/Cache/MySQL.php\n",
      "\n",
      "sql query 'execute' is called at line 217 in file ./wp-includes/SimplePie/Cache/MySQL.php\n",
      "\n",
      "sql query 'execute' is called at line 239 in file ./wp-includes/SimplePie/Cache/MySQL.php\n",
      "\n",
      "sql query 'execute' is called at line 257 in file ./wp-includes/SimplePie/Cache/MySQL.php\n",
      "\n",
      "sql query 'execute' is called at line 265 in file ./wp-includes/SimplePie/Cache/MySQL.php\n",
      "\n",
      "sql query 'execute' is called at line 276 in file ./wp-includes/SimplePie/Cache/MySQL.php\n",
      "\n",
      "sql query 'execute' is called at line 300 in file ./wp-includes/SimplePie/Cache/MySQL.php\n",
      "\n",
      "sql query 'execute' is called at line 346 in file ./wp-includes/SimplePie/Cache/MySQL.php\n",
      "\n",
      "sql query 'execute' is called at line 378 in file ./wp-includes/SimplePie/Cache/MySQL.php\n",
      "\n",
      "sql query 'execute' is called at line 403 in file ./wp-includes/SimplePie/Cache/MySQL.php\n",
      "\n",
      "sql query 'execute' is called at line 429 in file ./wp-includes/SimplePie/Cache/MySQL.php\n",
      "\n",
      "sql query 'execute' is called at line 429 in file ./wp-includes/SimplePie/Cache/MySQL.php\n",
      "\n",
      "sql query 'mysqli_query' is called at line 830 in file ./wp-includes/wp-db.php\n",
      "\n",
      "sql query 'mysql_query' is called at line 840 in file ./wp-includes/wp-db.php\n",
      "\n",
      "sql query 'mysqli_query' is called at line 859 in file ./wp-includes/wp-db.php\n",
      "\n",
      "sql query 'mysql_query' is called at line 861 in file ./wp-includes/wp-db.php\n",
      "\n",
      "sql query 'mysqli_query' is called at line 905 in file ./wp-includes/wp-db.php\n",
      "\n",
      "sql query 'mysql_query' is called at line 907 in file ./wp-includes/wp-db.php\n",
      "\n",
      "sql query 'mysqli_query' is called at line 1877 in file ./wp-includes/wp-db.php\n",
      "\n",
      "sql query 'mysql_query' is called at line 1879 in file ./wp-includes/wp-db.php\n",
      "\n"
     ]
    }
   ],
   "source": [
    "class CFGFunctionDatabaseVisitor:\n",
    "  def __init__(self):\n",
    "    self.ast = None\n",
    "  def visit(self, ast: AST):\n",
    "    self.ast = ast\n",
    "    #print(f\"Visit AST from file {self.ast.get_filename()}\")\n",
    "    self.__visit(self.ast.get_root())\n",
    "    #get all types of nodes\n",
    "  def __visit(self, node_id: int):\n",
    "    if find_exec_mysql(self.ast, node_id) or find_execute_method(self.ast, node_id) or find_sql_query(self.ast, node_id):\n",
    "\n",
    "      for child_id in self.ast.get_children(node_id):\n",
    "        self.__visit(child_id)\n",
    "      \n",
    "\n",
    "for ast in ASTFILES:\n",
    "    visitor = CFGFunctionDatabaseVisitor()\n",
    "    visitor.visit(ast)"
   ]
  },
  {
   "cell_type": "code",
   "execution_count": 118,
   "metadata": {},
   "outputs": [],
   "source": [
    "from code_analysis import AST\n",
    "\n",
    "file = reader.read_ast(\"../code_to_analyze/test_cve/2021_21705.php.ast.json\")"
   ]
  },
  {
   "cell_type": "code",
   "execution_count": 119,
   "metadata": {},
   "outputs": [],
   "source": [
    "def find_CVE_2021_21705(ast : AST, node_id) :\n",
    "    if ast.get_image(node_id) == \"filter_var\" :\n",
    "        print(ast.get_type(node_id))\n",
    "        children = ast.get_children(node_id)\n",
    "        print([(ast.get_type(id), ast.get_image(id)) for id in children])\n",
    "        if len(children) != 2 :\n",
    "            return False\n",
    "        argumentlist_children_id = children[1]\n",
    "        children_of_argumentlist = ast.get_children(argumentlist_children_id)\n",
    "        \n",
    "        images = [ast.get_image(id) for id in children_of_argumentlist]\n",
    "        print(images)\n",
    "        if \"FILTER_VALIDATE_URL\" in images :\n",
    "            return True\n",
    "\n",
    "    return False"
   ]
  },
  {
   "cell_type": "code",
   "execution_count": 120,
   "metadata": {},
   "outputs": [
    {
     "name": "stdout",
     "output_type": "stream",
     "text": [
      "FunctionCall\n",
      "[('Id', 'filter_var'), ('ArgumentList', None)]\n",
      "['url', 'FILTER_VALIDATE_URL']\n"
     ]
    }
   ],
   "source": [
    "class ASTFunctionCVEVisitor:\n",
    "  def __init__(self):\n",
    "    self.ast = None\n",
    "  def visit(self, ast: AST):\n",
    "    self.ast = ast\n",
    "    #print(f\"Visit AST from file {self.ast.get_filename()}\")\n",
    "    self.__visit(self.ast.get_root())\n",
    "    #get all types of nodes\n",
    "  def __visit(self, node_id: int):\n",
    "    if find_CVE_2021_21705(self.ast, node_id) :\n",
    "      print(f\"find CVE_2021_21705 '{self.ast.get_image(node_id)}' is called \"\n",
    "            f\"at line {self.ast.get_position(node_id)[0]}\"\n",
    "            f\" in file {self.ast.get_filename()}\")\n",
    "\n",
    "      print()\n",
    "\n",
    "    for child_id in self.ast.get_children(node_id):\n",
    "      self.__visit(child_id)\n",
    "      \n",
    "\n",
    "\n",
    "visitor = ASTFunctionCVEVisitor()\n",
    "visitor.visit(file)"
   ]
  }
 ],
 "metadata": {
  "kernelspec": {
   "display_name": "Python 3",
   "language": "python",
   "name": "python3"
  },
  "language_info": {
   "codemirror_mode": {
    "name": "ipython",
    "version": 3
   },
   "file_extension": ".py",
   "mimetype": "text/x-python",
   "name": "python",
   "nbconvert_exporter": "python",
   "pygments_lexer": "ipython3",
   "version": "3.11.4"
  }
 },
 "nbformat": 4,
 "nbformat_minor": 0
}
